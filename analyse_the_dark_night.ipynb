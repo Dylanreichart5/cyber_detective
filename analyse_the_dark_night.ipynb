{
 "cells": [
  {
   "cell_type": "markdown",
   "id": "d2071d97",
   "metadata": {},
   "source": [
    "<h1>Nuage de mots pour the picture of doran grey</h1>"
   ]
  },
  {
   "cell_type": "code",
   "execution_count": 44,
   "id": "dec547c1",
   "metadata": {},
   "outputs": [
    {
     "name": "stderr",
     "output_type": "stream",
     "text": [
      "[nltk_data] Downloading package stopwords to\n",
      "[nltk_data]     C:\\Users\\utilisateur\\AppData\\Roaming\\nltk_data...\n",
      "[nltk_data]   Package stopwords is already up-to-date!\n"
     ]
    },
    {
     "data": {
      "image/png": "[encoded data removed]",
      "text/plain": [
       "<Figure size 432x288 with 1 Axes>"
      ]
     },
     "metadata": {
      "needs_background": "light"
     },
     "output_type": "display_data"
    }
   ],
   "source": [
    "import csv\n",
    "import re\n",
    "import nltk\n",
    "from wordcloud import WordCloud\n",
    "from nltk.corpus import stopwords\n",
    "from matplotlib import pyplot as plt\n",
    "from collections import Counter\n",
    "\n",
    "\n",
    "# Télécharger la liste de stop-words en français\n",
    "nltk.download('stopwords')\n",
    "stop_words = stopwords.words('english')\n",
    "\n",
    "# Lire le fichier CSV et stocker les tweets dans une liste\n",
    "import pandas as pd\n",
    "\n",
    "# Lire le fichier CSV en utilisant read_csv() et sélectionner la colonne \"texte\" uniquement\n",
    "df = pd.read_csv(\"the_dark_night.csv\", usecols=[\"text\"])\n",
    "\n",
    "# Récupérer les valeurs de la colonne \"texte\" sous forme de liste\n",
    "tweets = df[\"text\"].values.tolist()\n",
    "# Fonction pour enlever les hashtags, mentions, URL et stop-words d'un tweet\n",
    "def clean_tweet(tweet):\n",
    "  tweet = tweet.lower()  # Convertir le tweet en lower case\n",
    "  tweet = re.sub(r'#\\S+', '', tweet)  # enlever les hashtags\n",
    "  tweet = re.sub(r'@\\S+', '', tweet)  # enlever les mentions\n",
    "  tweet = re.sub(r'https?://\\S+', '', tweet)  # enlever les URL\n",
    "\n",
    "  # Enlever les stop-words\n",
    "  words = tweet.split()\n",
    "  words = [word for word in words if word not in stop_words]\n",
    "  tweet = ' '.join(words)\n",
    "\n",
    "  return tweet\n",
    "\n",
    "# Enlever les hashtags, mentions, URL et stop-words de chaque tweet\n",
    "cleaned_tweets = []\n",
    "\n",
    "for tweet in tweets:\n",
    "  cleaned_tweets.append(clean_tweet(tweet[1]))\n",
    "\n",
    "# Générer le nuage de mots\n",
    "text = ' '.join(cleaned_tweets)\n",
    "wordcloud = WordCloud(collocations = False,width = 1000, height = 600,\n",
    "                     background_color='white').generate(text)\n",
    "\n",
    "# Afficher le nuage de mots\n",
    "plt.imshow(wordcloud, interpolation='bilinear')\n",
    "plt.axis(\"off\")\n",
    "plt.show()\n",
    "\n"
   ]
  },
  {
   "cell_type": "markdown",
   "id": "5939f439",
   "metadata": {},
   "source": [
    "<h1>Les 10 bigrammes les plus tweets</h1>"
   ]
  },
  {
   "cell_type": "code",
   "execution_count": 32,
   "id": "0bd24484",
   "metadata": {},
   "outputs": [
    {
     "name": "stdout",
     "output_type": "stream",
     "text": [
      "[]\n"
     ]
    }
   ],
   "source": [
    "import re\n",
    "\n",
    "\n",
    "\n",
    "def remove_special_characters_and_spaces(string):\n",
    "  no_special_characters = re.sub(r'[^\\w\\s]', '', string)\n",
    "  no_spaces = re.sub(r'\\s+', '', no_special_characters)\n",
    "  return no_spaces\n",
    "\n",
    "bigrams = []\n",
    "for tweet in cleaned_tweets:\n",
    "  words = tweet.split()\n",
    "  for i in range(len(words)-1):\n",
    "    word1 = remove_special_characters_and_spaces(words[i])\n",
    "    word2 = remove_special_characters_and_spaces(words[i+1])\n",
    "    if word1 and word2 and len(word1) > 1 and len(word2) > 1:  # vérifie si les mots ne sont pas des chaînes vides et si la longueur de chaque mot est supérieure à 1\n",
    "      bigram = word1 + ' ' + word2\n",
    "      bigrams.append(bigram)\n",
    "\n",
    "\n",
    "\n",
    "\n",
    "\n",
    "# compter les bigrammes\n",
    "bigram_counts = Counter(bigrams)\n",
    "\n",
    "# afficher les bigrammes les plus fréquents\n",
    "top_bigrams = bigram_counts.most_common(10)\n",
    "print(top_bigrams)\n"
   ]
  },
  {
   "cell_type": "markdown",
   "id": "dcba2aa6",
   "metadata": {},
   "source": [
    "<h1>Les 10 trigrammes les plus tweets</h1>\n"
   ]
  },
  {
   "cell_type": "code",
   "execution_count": 3,
   "id": "4d1862ac",
   "metadata": {},
   "outputs": [
    {
     "name": "stdout",
     "output_type": "stream",
     "text": [
      "[('picture dorian gray', 387), ('dorian gray 1945', 96), ('gray 1945 original', 89), ('1945 original canvas', 89), ('original canvas final', 89), ('canvas final version', 89), ('final version dorian', 89), ('version dorian grays', 89), ('dorian grays portrait', 89), ('dorian gray ugly', 60)]\n"
     ]
    }
   ],
   "source": [
    "import re\n",
    "\n",
    "def remove_special_characters_and_spaces(string):\n",
    "  no_special_characters = re.sub(r'[^\\w\\s]', '', string)\n",
    "  no_spaces = re.sub(r'\\s+', '', no_special_characters)\n",
    "  return no_spaces\n",
    "\n",
    "trigrams = []\n",
    "for tweet in cleaned_tweets:\n",
    "  words = tweet.split()\n",
    "  for i in range(len(words)-2):\n",
    "    word1 = remove_special_characters_and_spaces(words[i])\n",
    "    word2 = remove_special_characters_and_spaces(words[i+1])\n",
    "    word3 = remove_special_characters_and_spaces(words[i+2])\n",
    "    if word1 and word2 and word3 and len(word1) > 1 and len(word2) > 1 and len(word3) > 1:  # vérifie si les mots ne sont pas des chaînes vides et si la longueur de chaque mot est supérieure à 1\n",
    "      trigram = word1 + ' ' + word2 + ' ' + word3\n",
    "      trigrams.append(trigram)\n",
    "\n",
    "# compter les trigrammes\n",
    "trigram_counts = Counter(trigrams)\n",
    "\n",
    "# afficher les trigrammes les plus fréquents\n",
    "top_trigrams = trigram_counts.most_common(10)\n",
    "print(top_trigrams)\n",
    "\n",
    "\n"
   ]
  },
  {
   "cell_type": "markdown",
   "id": "13ea80e7",
   "metadata": {},
   "source": [
    "<h1>Analyse de sentiments</h1>\n"
   ]
  },
  {
   "cell_type": "code",
   "execution_count": 4,
   "id": "4e5492be",
   "metadata": {},
   "outputs": [
    {
     "name": "stdout",
     "output_type": "stream",
     "text": [
      "Positive: 321\n",
      "Negative: 104\n",
      "Neutral: 983\n"
     ]
    }
   ],
   "source": [
    "from textblob import TextBlob\n",
    "import pandas as pd\n",
    "\n",
    "# Créer un DataFrame vide avec une colonne \"tweet\" et une colonne \"sentiment\"\n",
    "df = pd.DataFrame(columns=[\"tweet\", \"sentiment\"])\n",
    "\n",
    "# Pour chaque tweet nettoyé, calculer le score de sentiment et l'ajouter au DataFrame\n",
    "for tweet in cleaned_tweets:\n",
    "  analysis = TextBlob(tweet)\n",
    "  score = analysis.sentiment.polarity\n",
    "  df = pd.concat([df, pd.DataFrame({\"tweet\": tweet, \"sentiment\": score}, index=[0])], ignore_index=True)\n",
    "\n",
    "# Comptez le nombre de tweets positifs, négatifs et neutres\n",
    "positive = df[df[\"sentiment\"] > 0].count()[\"sentiment\"]\n",
    "negative = df[df[\"sentiment\"] < 0].count()[\"sentiment\"]\n",
    "neutral = df[df[\"sentiment\"] == 0].count()[\"sentiment\"]\n",
    "\n",
    "# Affichez les résultats\n",
    "print(\"Positive:\", positive)\n",
    "print(\"Negative:\", negative)\n",
    "print(\"Neutral:\", neutral)\n",
    "\n"
   ]
  },
  {
   "cell_type": "code",
   "execution_count": null,
   "id": "e0a7aa03",
   "metadata": {},
   "outputs": [],
   "source": []
  },
  {
   "cell_type": "code",
   "execution_count": null,
   "id": "5bd431a6",
   "metadata": {},
   "outputs": [],
   "source": []
  }
 ],
 "metadata": {
  "kernelspec": {
   "display_name": "Python 3 (ipykernel)",
   "language": "python",
   "name": "python3"
  },
  "language_info": {
   "codemirror_mode": {
    "name": "ipython",
    "version": 3
   },
   "file_extension": ".py",
   "mimetype": "text/x-python",
   "name": "python",
   "nbconvert_exporter": "python",
   "pygments_lexer": "ipython3",
   "version": "3.9.12"
  }
 },
 "nbformat": 4,
 "nbformat_minor": 5
}
