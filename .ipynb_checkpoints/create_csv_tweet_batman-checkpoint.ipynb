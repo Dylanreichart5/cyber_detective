{
 "cells": [
  {
   "cell_type": "code",
   "execution_count": 9,
   "id": "b70ec401",
   "metadata": {},
   "outputs": [],
   "source": [
    "import snscrape.modules.twitter as sntwitter\n",
    "import pandas as pd\n",
    "\n",
    "# Création d'une liste pour ajouter les données de tweets\n",
    "liste_tweets = []\n",
    "\n",
    "# Utilisation de TwitterSearchScraper pour récupérer les données et ajouter les tweets à la listefor i,tweet in enumerate(sntwitter.TwitterSearchScraper('the Art of War since:2022-06-01 until:2023-01-01').get_items()):\n",
    "\n",
    "\n",
    "for i,tweet in enumerate(sntwitter.TwitterSearchScraper('Batman : the Dark Night Return since:2022-06-01 until:2023-01-01').get_items()):\n",
    "    if i>1000:\n",
    "        break\n",
    "    liste_tweets.append([tweet.date, tweet.id, tweet.content, tweet.user.username])\n",
    "\n",
    "\n",
    "\n",
    "# Création d'un dataframe à partir de la liste de tweets ci-dessus\n",
    "\n",
    "df_tweets = pd.DataFrame(liste_tweets, columns=['Datetime', 'Tweet Id', 'Text', 'Username'])\n",
    "df_tweets.to_csv(\"the_dark_night.csv\")"
   ]
  },
  {
   "cell_type": "code",
   "execution_count": null,
   "id": "2e94358c",
   "metadata": {},
   "outputs": [],
   "source": []
  },
  {
   "cell_type": "code",
   "execution_count": null,
   "id": "b4439500",
   "metadata": {},
   "outputs": [],
   "source": []
  },
  {
   "cell_type": "code",
   "execution_count": null,
   "id": "94cacb18",
   "metadata": {},
   "outputs": [],
   "source": []
  }
 ],
 "metadata": {
  "kernelspec": {
   "display_name": "Python 3 (ipykernel)",
   "language": "python",
   "name": "python3"
  },
  "language_info": {
   "codemirror_mode": {
    "name": "ipython",
    "version": 3
   },
   "file_extension": ".py",
   "mimetype": "text/x-python",
   "name": "python",
   "nbconvert_exporter": "python",
   "pygments_lexer": "ipython3",
   "version": "3.9.12"
  }
 },
 "nbformat": 4,
 "nbformat_minor": 5
}
